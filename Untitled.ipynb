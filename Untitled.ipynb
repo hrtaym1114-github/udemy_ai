{
 "cells": [
  {
   "cell_type": "markdown",
   "id": "303569f0-aa53-470c-a8f7-417af8465bc3",
   "metadata": {},
   "source": [
    "## SerpAPIを使ってみる\n",
    "\n",
    "### GitHub\n",
    "https://github.com/serpapi/google-search-results-python\n",
    "\n",
    "### Site\n",
    "アカウント作成しAPIKEYを取得\n",
    "\n",
    "https://serpapi.com/"
   ]
  },
  {
   "cell_type": "code",
   "execution_count": 1,
   "id": "355eb24b-458c-45f5-a9d5-826d355e5bb9",
   "metadata": {},
   "outputs": [
    {
     "name": "stdout",
     "output_type": "stream",
     "text": [
      "Collecting google-search-results\n",
      "  Downloading google_search_results-2.4.2.tar.gz (18 kB)\n",
      "  Preparing metadata (setup.py): started\n",
      "  Preparing metadata (setup.py): finished with status 'done'\n",
      "Requirement already satisfied: requests in c:\\users\\hrtay\\appdata\\local\\programs\\python\\python310\\lib\\site-packages (from google-search-results) (2.28.2)\n",
      "Requirement already satisfied: charset-normalizer<4,>=2 in c:\\users\\hrtay\\appdata\\local\\programs\\python\\python310\\lib\\site-packages (from requests->google-search-results) (3.1.0)\n",
      "Requirement already satisfied: idna<4,>=2.5 in c:\\users\\hrtay\\appdata\\local\\programs\\python\\python310\\lib\\site-packages (from requests->google-search-results) (3.4)\n",
      "Requirement already satisfied: urllib3<1.27,>=1.21.1 in c:\\users\\hrtay\\appdata\\local\\programs\\python\\python310\\lib\\site-packages (from requests->google-search-results) (1.26.15)\n",
      "Requirement already satisfied: certifi>=2017.4.17 in c:\\users\\hrtay\\appdata\\local\\programs\\python\\python310\\lib\\site-packages (from requests->google-search-results) (2022.12.7)\n",
      "Building wheels for collected packages: google-search-results\n",
      "  Building wheel for google-search-results (setup.py): started\n",
      "  Building wheel for google-search-results (setup.py): finished with status 'done'\n",
      "  Created wheel for google-search-results: filename=google_search_results-2.4.2-py3-none-any.whl size=32076 sha256=50fc9bcdbde3436365bac91324527fd145517255d6d98e2d2b9e5a2ed70bc56f\n",
      "  Stored in directory: c:\\users\\hrtay\\appdata\\local\\pip\\cache\\wheels\\d3\\b2\\c3\\03302d12bb44a2cdff3c9371f31b72c0c4e84b8d2285eeac53\n",
      "Successfully built google-search-results\n",
      "Installing collected packages: google-search-results\n",
      "Successfully installed google-search-results-2.4.2\n",
      "Note: you may need to restart the kernel to use updated packages.\n"
     ]
    },
    {
     "name": "stderr",
     "output_type": "stream",
     "text": [
      "WARNING: There was an error checking the latest version of pip.\n"
     ]
    }
   ],
   "source": [
    "pip install google-search-results"
   ]
  },
  {
   "cell_type": "code",
   "execution_count": 9,
   "id": "01d5d5f2-529c-42ec-b74d-9db66933d4aa",
   "metadata": {},
   "outputs": [],
   "source": [
    "from serpapi import GoogleSearch\n",
    "\n",
    "params = {\n",
    "  \"engine\": \"google\",\n",
    "  \"q\": \"2023年11月時点の日本の首相の名前\",\n",
    "  \"location\": \"Tokyo,Japan\",\n",
    "  \"hl\": \"ja\",\n",
    "  \"gl\": \"jp\",\n",
    "  \"google_domain\": \"google.co.jp\",\n",
    "  \"num\": \"10\",\n",
    "  \"start\": \"10\",\n",
    "  \"safe\": \"active\",\n",
    "  \"api_key\": \"9ca38ba388b0066476568f1ff8bbdf46113c941cd24d4c169ed529ee0eb848ee\"\n",
    "}\n",
    "\n",
    "search = GoogleSearch(params)\n",
    "results = search.get_dict()\n",
    "organic_results = results[\"organic_results\"]"
   ]
  },
  {
   "cell_type": "code",
   "execution_count": 10,
   "id": "46ec505a-0f2e-486a-becb-7e01e60906ac",
   "metadata": {},
   "outputs": [
    {
     "data": {
      "text/plain": [
       "[{'position': 1,\n",
       "  'title': '2023年11月6日月曜日の首相動静 | 総理、きのう何してた？',\n",
       "  'link': 'https://www.nhk.or.jp/politics/souri/2023/11/06.html',\n",
       "  'displayed_link': 'https://www.nhk.or.jp › politics › souri › 2023/11',\n",
       "  'favicon': 'https://serpapi.com/searches/654a9231d036a75a857cebf5/images/bb8a020ea226c24a9d415f4afbafb6d08d14c5d74db780752f533ef1d1e2e3b1.png',\n",
       "  'date': '13 時間前',\n",
       "  'snippet': '09:00: 9時54分徒歩で公邸発: 9時55分官邸着; 10:00: 10時35分西村康稔GX実行推進担当大臣、経済産業省の飯田祐二事務次官、畠山陽二郎産業技術環境 ...',\n",
       "  'about_page_link': 'https://www.google.co.jp/search?q=About+https://www.nhk.or.jp/politics/souri/2023/11/06.html&tbm=ilp',\n",
       "  'about_page_serpapi_link': 'https://serpapi.com/search.json?engine=google_about_this_result&google_domain=google.co.jp&q=About+https%3A%2F%2Fwww.nhk.or.jp%2Fpolitics%2Fsouri%2F2023%2F11%2F06.html',\n",
       "  'missing': ['名前'],\n",
       "  'must_include': {'word': '名前',\n",
       "   'link': 'https://www.google.co.jp/search?safe=active&sca_esv=580203348&hl=ja&gl=jp&q=2023%E5%B9%B411%E6%9C%88%E6%99%82%E7%82%B9%E3%81%AE%E6%97%A5%E6%9C%AC%E3%81%AE%E9%A6%96%E7%9B%B8%E3%81%AE+%22%E5%90%8D%E5%89%8D%22&sa=X&ved=2ahUKEwiMrY_q0bKCAxX2L1kFHcQsDKU4ChDm3gJ6BAgREAE'},\n",
       "  'source': 'NHK'},\n",
       " {'position': 2,\n",
       "  'title': '株式会社オリエンタルコンサルタンツグローバル 岸田首相 ...',\n",
       "  'link': 'https://www.oriconhd.jp/files/information/news20231107_03.pdf',\n",
       "  'displayed_link': 'https://www.oriconhd.jp › news20231107_03',\n",
       "  'favicon': 'https://serpapi.com/searches/654a9231d036a75a857cebf5/images/bb8a020ea226c24a9d415f4afbafb6d0b4b8015a25776dd89e2d788887b00202.png',\n",
       "  'snippet': '2023 年 11 月7日. 各 位. 会 社 名 株式会社オリエンタルコンサルタンツホールディングス. 代表者名 代表取締役社 長 野. 崎. 秀. 則. （東証スタンダード市場・ ...',\n",
       "  'snippet_highlighted_words': ['2023 年 11 月7日'],\n",
       "  'about_page_link': 'https://www.google.co.jp/search?q=About+https://www.oriconhd.jp/files/information/news20231107_03.pdf&tbm=ilp',\n",
       "  'about_page_serpapi_link': 'https://serpapi.com/search.json?engine=google_about_this_result&google_domain=google.co.jp&q=About+https%3A%2F%2Fwww.oriconhd.jp%2Ffiles%2Finformation%2Fnews20231107_03.pdf',\n",
       "  'cached_page_link': 'https://webcache.googleusercontent.com/search?q=cache:iNxArWMQcGQJ:https://www.oriconhd.jp/files/information/news20231107_03.pdf&hl=ja&gl=jp',\n",
       "  'source': 'オリエンタルコンサルタンツホールディングス'},\n",
       " {'position': 3,\n",
       "  'title': '衆議院トップページ',\n",
       "  'link': 'https://www.shugiin.go.jp/',\n",
       "  'displayed_link': 'https://www.shugiin.go.jp',\n",
       "  'snippet': '令和5年11月8日の開会情報 · 令和5年11月7日の開会情報. 新着情報. 本会議開会情報 ... 会派名及び会派別所属議員数 · 議員一覧 · 会派別議員一覧 · 衆議院議員会館議員事務 ...',\n",
       "  'snippet_highlighted_words': ['令和5年11月8日', '令和5年11月7日'],\n",
       "  'about_page_link': 'https://www.google.co.jp/search?q=About+https://www.shugiin.go.jp/&tbm=ilp',\n",
       "  'about_page_serpapi_link': 'https://serpapi.com/search.json?engine=google_about_this_result&google_domain=google.co.jp&q=About+https%3A%2F%2Fwww.shugiin.go.jp%2F',\n",
       "  'cached_page_link': 'https://webcache.googleusercontent.com/search?q=cache:y6Dn0aDR3AYJ:https://www.shugiin.go.jp/&hl=ja&gl=jp',\n",
       "  'source': '衆議院'},\n",
       " {'position': 4,\n",
       "  'title': '幹部名簿 : 組織・業務の概要',\n",
       "  'link': 'https://www.cao.go.jp/about/meibo.html',\n",
       "  'displayed_link': 'https://www.cao.go.jp › about › meibo',\n",
       "  'favicon': 'https://serpapi.com/searches/654a9231d036a75a857cebf5/images/bb8a020ea226c24a9d415f4afbafb6d0945635b6f8efb29fa4bd7720696c67d9.png',\n",
       "  'snippet': '内閣府幹部名簿（令和5年11月1日現在）（PDF形式：441KB） PDFを別ウィンドウで開きます. 本件問合先 内閣府大臣官房人事課任用係. このページの先頭へ.',\n",
       "  'snippet_highlighted_words': ['令和5年11月1日'],\n",
       "  'about_page_link': 'https://www.google.co.jp/search?q=About+https://www.cao.go.jp/about/meibo.html&tbm=ilp',\n",
       "  'about_page_serpapi_link': 'https://serpapi.com/search.json?engine=google_about_this_result&google_domain=google.co.jp&q=About+https%3A%2F%2Fwww.cao.go.jp%2Fabout%2Fmeibo.html',\n",
       "  'cached_page_link': 'https://webcache.googleusercontent.com/search?q=cache:KmMU_0zokqAJ:https://www.cao.go.jp/about/meibo.html&hl=ja&gl=jp',\n",
       "  'source': '内閣府ホームページ'},\n",
       " {'position': 5,\n",
       "  'title': '国会会議録検索システム',\n",
       "  'link': 'https://kokkai.ndl.go.jp/',\n",
       "  'displayed_link': 'https://kokkai.ndl.go.jp',\n",
       "  'snippet': '会議指定. 院名. 院名. 衆議院 参議院 両院協議会・合同審査会等. 開催日付. 開催日付. 令和, 平成, 昭和, 西暦. 年 月 日 カレンダーで選択. 前月. 2023年11月. 次月. 日 ...',\n",
       "  'snippet_highlighted_words': ['2023年11月'],\n",
       "  'about_page_link': 'https://www.google.co.jp/search?q=About+https://kokkai.ndl.go.jp/&tbm=ilp',\n",
       "  'about_page_serpapi_link': 'https://serpapi.com/search.json?engine=google_about_this_result&google_domain=google.co.jp&q=About+https%3A%2F%2Fkokkai.ndl.go.jp%2F',\n",
       "  'cached_page_link': 'https://webcache.googleusercontent.com/search?q=cache:n-4ydba-S14J:https://kokkai.ndl.go.jp/&hl=ja&gl=jp',\n",
       "  'source': '国会会議録検索システム'},\n",
       " {'position': 6,\n",
       "  'title': '日本国憲法',\n",
       "  'link': 'https://www.shugiin.go.jp/internet/itdb_annai.nsf/html/statics/shiryo/dl-constitution.htm',\n",
       "  'displayed_link': 'https://www.shugiin.go.jp › shiryo › dl-constitution',\n",
       "  'snippet': '昭和21年11月3日. 内閣総理大臣兼外務大臣, 吉田 茂. 国務大臣, 男爵, 幣原 喜重郎. 司法大臣, 木村 篤太郎. 内務大臣, 大村 清一. 文部大臣, 田中 耕太郎. 農林大臣 ...',\n",
       "  'snippet_highlighted_words': ['年11月'],\n",
       "  'about_page_link': 'https://www.google.co.jp/search?q=About+https://www.shugiin.go.jp/internet/itdb_annai.nsf/html/statics/shiryo/dl-constitution.htm&tbm=ilp',\n",
       "  'about_page_serpapi_link': 'https://serpapi.com/search.json?engine=google_about_this_result&google_domain=google.co.jp&q=About+https%3A%2F%2Fwww.shugiin.go.jp%2Finternet%2Fitdb_annai.nsf%2Fhtml%2Fstatics%2Fshiryo%2Fdl-constitution.htm',\n",
       "  'cached_page_link': 'https://webcache.googleusercontent.com/search?q=cache:HjJQdWtw_oQJ:https://www.shugiin.go.jp/internet/itdb_annai.nsf/html/statics/shiryo/dl-constitution.htm&hl=ja&gl=jp',\n",
       "  'missing': ['2023'],\n",
       "  'must_include': {'word': '2023',\n",
       "   'link': 'https://www.google.co.jp/search?safe=active&sca_esv=580203348&hl=ja&gl=jp&q=%222023%22+%E5%B9%B411%E6%9C%88%E6%99%82%E7%82%B9%E3%81%AE%E6%97%A5%E6%9C%AC%E3%81%AE%E9%A6%96%E7%9B%B8%E3%81%AE%E5%90%8D%E5%89%8D&sa=X&ved=2ahUKEwiMrY_q0bKCAxX2L1kFHcQsDKU4ChDm3gJ6BAgQEAE'},\n",
       "  'source': '衆議院'},\n",
       " {'position': 7,\n",
       "  'title': '文部科学大臣（2023年10月現在）',\n",
       "  'link': 'https://www.mext.go.jp/b_menu/soshiki/daijin.htm',\n",
       "  'displayed_link': 'https://www.mext.go.jp › b_menu › soshiki › daijin',\n",
       "  'favicon': 'https://serpapi.com/searches/654a9231d036a75a857cebf5/images/bb8a020ea226c24a9d415f4afbafb6d041cdef2ed30dfd700f1f3caf80929c04.png',\n",
       "  'snippet': '文部科学大臣 盛山 正仁（もりやま まさひと）. 生年月日 昭和28年12月14日生. 出身地 大阪府. 所属 自由民主党 衆議院議員 比例近畿ブロック選出 （当選 衆 5回）',\n",
       "  'about_page_link': 'https://www.google.co.jp/search?q=About+https://www.mext.go.jp/b_menu/soshiki/daijin.htm&tbm=ilp',\n",
       "  'about_page_serpapi_link': 'https://serpapi.com/search.json?engine=google_about_this_result&google_domain=google.co.jp&q=About+https%3A%2F%2Fwww.mext.go.jp%2Fb_menu%2Fsoshiki%2Fdaijin.htm',\n",
       "  'cached_page_link': 'https://webcache.googleusercontent.com/search?q=cache:AbCRUUzED10J:https://www.mext.go.jp/b_menu/soshiki/daijin.htm&hl=ja&gl=jp',\n",
       "  'source': '文部科学省'},\n",
       " {'position': 8,\n",
       "  'title': '自由民主党',\n",
       "  'link': 'https://www.jimin.jp/',\n",
       "  'displayed_link': 'https://www.jimin.jp',\n",
       "  'favicon': 'https://serpapi.com/searches/654a9231d036a75a857cebf5/images/bb8a020ea226c24a9d415f4afbafb6d014955ef18f4623466393d4b9578bac19.png',\n",
       "  'snippet': '自由民主党の公式サイト。自民党の政策、最新ニュース、総裁のメッセージ、議員情報を掲載。皆さまからのご意見も募集しています。',\n",
       "  'about_page_link': 'https://www.google.co.jp/search?q=About+https://www.jimin.jp/&tbm=ilp',\n",
       "  'about_page_serpapi_link': 'https://serpapi.com/search.json?engine=google_about_this_result&google_domain=google.co.jp&q=About+https%3A%2F%2Fwww.jimin.jp%2F',\n",
       "  'cached_page_link': 'https://webcache.googleusercontent.com/search?q=cache:yzBaT2NDz7IJ:https://www.jimin.jp/&hl=ja&gl=jp',\n",
       "  'source': '自由民主党'},\n",
       " {'position': 9,\n",
       "  'title': 'スナク氏が首相に就任、新内閣が発足(英国) | ビジネス短信',\n",
       "  'link': 'https://www.jetro.go.jp/biznews/2022/10/67143608d0944b4e.html',\n",
       "  'displayed_link': 'https://www.jetro.go.jp › biznews › 2022/10',\n",
       "  'favicon': 'https://serpapi.com/searches/654a9231d036a75a857cebf5/images/bb8a020ea226c24a9d415f4afbafb6d07eb727234ee46cb91692f21a2bf2310d.png',\n",
       "  'date': '2022/10/26',\n",
       "  'snippet': 'uk出品時の税務について 2023年06月12日. 地域・分析レポート 欧州・英国の香辛料トレンドと日本産食材 2023年07月11日. 調査レポート 英国における洋上 ...',\n",
       "  'snippet_highlighted_words': ['2023年', '日本', '2023年', '11'],\n",
       "  'about_page_link': 'https://www.google.co.jp/search?q=About+https://www.jetro.go.jp/biznews/2022/10/67143608d0944b4e.html&tbm=ilp',\n",
       "  'about_page_serpapi_link': 'https://serpapi.com/search.json?engine=google_about_this_result&google_domain=google.co.jp&q=About+https%3A%2F%2Fwww.jetro.go.jp%2Fbiznews%2F2022%2F10%2F67143608d0944b4e.html',\n",
       "  'cached_page_link': 'https://webcache.googleusercontent.com/search?q=cache:162ek4AnTkMJ:https://www.jetro.go.jp/biznews/2022/10/67143608d0944b4e.html&hl=ja&gl=jp',\n",
       "  'source': 'ジェトロ'}]"
      ]
     },
     "execution_count": 10,
     "metadata": {},
     "output_type": "execute_result"
    }
   ],
   "source": [
    "organic_results"
   ]
  },
  {
   "cell_type": "markdown",
   "id": "ad3c0b54-86a9-4ddf-957f-47ceabd21ba0",
   "metadata": {},
   "source": [
    "### LangChainでChatGPTとSerpAPIを利用して、現在の首相の名前を答えてもらう"
   ]
  },
  {
   "cell_type": "code",
   "execution_count": null,
   "id": "23c32929-9901-4339-a2b5-000d34cabad4",
   "metadata": {},
   "outputs": [],
   "source": [
    "pip install langchain"
   ]
  },
  {
   "cell_type": "code",
   "execution_count": 12,
   "id": "792b6aa1-8b24-4ece-9cca-64843bcd4a10",
   "metadata": {},
   "outputs": [],
   "source": [
    "import os\n",
    "from langchain.llms import OpenAI"
   ]
  },
  {
   "cell_type": "code",
   "execution_count": 13,
   "id": "82241810-2dbc-495b-a0bb-ac9c30900eef",
   "metadata": {},
   "outputs": [],
   "source": [
    "llm = OpenAI(temperature=0.9)"
   ]
  },
  {
   "cell_type": "code",
   "execution_count": 17,
   "id": "9698d73b-303e-4888-a998-9fe2ddc1da99",
   "metadata": {},
   "outputs": [
    {
     "name": "stdout",
     "output_type": "stream",
     "text": [
      "\n",
      "\n",
      "I hope you are doing well today. It is great to connect with you. How are you?\n"
     ]
    }
   ],
   "source": [
    "test = \"Hello!\"\n",
    "print(llm(test))"
   ]
  },
  {
   "cell_type": "code",
   "execution_count": 20,
   "id": "19a60129-f8b4-45d8-9c22-fe2912498efa",
   "metadata": {},
   "outputs": [],
   "source": [
    "from langchain.prompts import PromptTemplate\n",
    "\n",
    "prompt = PromptTemplate(\n",
    "    input_variables=[\"product\"],\n",
    "    template=\"What is agood name for a company that makes {product}\",\n",
    ")"
   ]
  },
  {
   "cell_type": "code",
   "execution_count": 21,
   "id": "30f6e706-bb73-44a1-9090-f68692f79313",
   "metadata": {},
   "outputs": [
    {
     "name": "stdout",
     "output_type": "stream",
     "text": [
      "What is agood name for a company that makes colorful socks\n"
     ]
    }
   ],
   "source": [
    "print(prompt.format(product=\"colorful socks\"))"
   ]
  },
  {
   "cell_type": "code",
   "execution_count": 22,
   "id": "51df914b-6e20-4614-9600-ebb1c1f66b1b",
   "metadata": {},
   "outputs": [
    {
     "data": {
      "text/plain": [
       "'\\n\\nKrazy Socks Co.'"
      ]
     },
     "execution_count": 22,
     "metadata": {},
     "output_type": "execute_result"
    }
   ],
   "source": [
    "llm(prompt.format(product=\"colorful socks\"))"
   ]
  },
  {
   "cell_type": "code",
   "execution_count": 26,
   "id": "2725e4bd-7e1e-49e5-9d9b-a073a0020b77",
   "metadata": {},
   "outputs": [
    {
     "data": {
      "text/plain": [
       "'\\n\\nRainbow Sockery'"
      ]
     },
     "execution_count": 26,
     "metadata": {},
     "output_type": "execute_result"
    }
   ],
   "source": [
    "from langchain.chains import LLMChain\n",
    "chain = LLMChain(llm=llm, prompt=prompt)\n",
    "\n",
    "chain.run(\"colorful socks\")"
   ]
  },
  {
   "cell_type": "code",
   "execution_count": 27,
   "id": "afe6eb0d-801c-4f83-9609-918d3af34e19",
   "metadata": {},
   "outputs": [],
   "source": [
    "import os\n",
    "os.environ[\"SERPAPI_API_KEY\"] = \"9ca38ba388b0066476568f1ff8bbdf46113c941cd24d4c169ed529ee0eb848ee\""
   ]
  },
  {
   "cell_type": "code",
   "execution_count": null,
   "id": "0043c9c8-6489-452e-addc-18038fca80b7",
   "metadata": {},
   "outputs": [],
   "source": [
    "from langchain.agents import laod_tools\n",
    "from langchain.agents import initialize_agent\n",
    "from langchain.agents import AgentType\n",
    "from langchain.llms import OpenAI\n",
    "\n"
   ]
  }
 ],
 "metadata": {
  "kernelspec": {
   "display_name": "Python 3 (ipykernel)",
   "language": "python",
   "name": "python3"
  },
  "language_info": {
   "codemirror_mode": {
    "name": "ipython",
    "version": 3
   },
   "file_extension": ".py",
   "mimetype": "text/x-python",
   "name": "python",
   "nbconvert_exporter": "python",
   "pygments_lexer": "ipython3",
   "version": "3.10.4"
  }
 },
 "nbformat": 4,
 "nbformat_minor": 5
}
