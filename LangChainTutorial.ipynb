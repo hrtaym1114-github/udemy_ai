{
  "nbformat": 4,
  "nbformat_minor": 0,
  "metadata": {
    "colab": {
      "provenance": [],
      "toc_visible": true
    },
    "kernelspec": {
      "name": "python3",
      "display_name": "Python 3"
    },
    "language_info": {
      "name": "python"
    }
  },
  "cells": [
    {
      "cell_type": "markdown",
      "source": [
        "# Step.1 ChatGPT API (gpt-3.5-turbo)を呼んで、2023年4月現在の首相の名前を聞いてみる\n",
        "\n",
        "https://platform.openai.com/docs/api-reference/introduction"
      ],
      "metadata": {
        "id": "ONvJftAkL_Ht"
      }
    },
    {
      "cell_type": "code",
      "source": [
        "pip install openai"
      ],
      "metadata": {
        "colab": {
          "base_uri": "https://localhost:8080/"
        },
        "id": "9qk4Wr_ViuS_",
        "outputId": "a4d19fbc-8bc0-4062-91b8-ba62361d0f67"
      },
      "execution_count": 5,
      "outputs": [
        {
          "output_type": "stream",
          "name": "stdout",
          "text": [
            "Looking in indexes: https://pypi.org/simple, https://us-python.pkg.dev/colab-wheels/public/simple/\n",
            "Collecting openai\n",
            "  Downloading openai-0.27.4-py3-none-any.whl (70 kB)\n",
            "\u001b[2K     \u001b[90m━━━━━━━━━━━━━━━━━━━━━━━━━━━━━━━━━━━━━━━━\u001b[0m \u001b[32m70.3/70.3 kB\u001b[0m \u001b[31m2.8 MB/s\u001b[0m eta \u001b[36m0:00:00\u001b[0m\n",
            "\u001b[?25hCollecting aiohttp\n",
            "  Downloading aiohttp-3.8.4-cp39-cp39-manylinux_2_17_x86_64.manylinux2014_x86_64.whl (1.0 MB)\n",
            "\u001b[2K     \u001b[90m━━━━━━━━━━━━━━━━━━━━━━━━━━━━━━━━━━━━━━━━\u001b[0m \u001b[32m1.0/1.0 MB\u001b[0m \u001b[31m18.1 MB/s\u001b[0m eta \u001b[36m0:00:00\u001b[0m\n",
            "\u001b[?25hRequirement already satisfied: requests>=2.20 in /usr/local/lib/python3.9/dist-packages (from openai) (2.27.1)\n",
            "Requirement already satisfied: tqdm in /usr/local/lib/python3.9/dist-packages (from openai) (4.65.0)\n",
            "Requirement already satisfied: charset-normalizer~=2.0.0 in /usr/local/lib/python3.9/dist-packages (from requests>=2.20->openai) (2.0.12)\n",
            "Requirement already satisfied: certifi>=2017.4.17 in /usr/local/lib/python3.9/dist-packages (from requests>=2.20->openai) (2022.12.7)\n",
            "Requirement already satisfied: idna<4,>=2.5 in /usr/local/lib/python3.9/dist-packages (from requests>=2.20->openai) (3.4)\n",
            "Requirement already satisfied: urllib3<1.27,>=1.21.1 in /usr/local/lib/python3.9/dist-packages (from requests>=2.20->openai) (1.26.15)\n",
            "Collecting async-timeout<5.0,>=4.0.0a3\n",
            "  Downloading async_timeout-4.0.2-py3-none-any.whl (5.8 kB)\n",
            "Collecting aiosignal>=1.1.2\n",
            "  Downloading aiosignal-1.3.1-py3-none-any.whl (7.6 kB)\n",
            "Requirement already satisfied: attrs>=17.3.0 in /usr/local/lib/python3.9/dist-packages (from aiohttp->openai) (22.2.0)\n",
            "Collecting frozenlist>=1.1.1\n",
            "  Downloading frozenlist-1.3.3-cp39-cp39-manylinux_2_5_x86_64.manylinux1_x86_64.manylinux_2_17_x86_64.manylinux2014_x86_64.whl (158 kB)\n",
            "\u001b[2K     \u001b[90m━━━━━━━━━━━━━━━━━━━━━━━━━━━━━━━━━━━━━━\u001b[0m \u001b[32m158.8/158.8 kB\u001b[0m \u001b[31m15.8 MB/s\u001b[0m eta \u001b[36m0:00:00\u001b[0m\n",
            "\u001b[?25hCollecting multidict<7.0,>=4.5\n",
            "  Downloading multidict-6.0.4-cp39-cp39-manylinux_2_17_x86_64.manylinux2014_x86_64.whl (114 kB)\n",
            "\u001b[2K     \u001b[90m━━━━━━━━━━━━━━━━━━━━━━━━━━━━━━━━━━━━━━\u001b[0m \u001b[32m114.2/114.2 kB\u001b[0m \u001b[31m12.0 MB/s\u001b[0m eta \u001b[36m0:00:00\u001b[0m\n",
            "\u001b[?25hCollecting yarl<2.0,>=1.0\n",
            "  Downloading yarl-1.8.2-cp39-cp39-manylinux_2_17_x86_64.manylinux2014_x86_64.whl (264 kB)\n",
            "\u001b[2K     \u001b[90m━━━━━━━━━━━━━━━━━━━━━━━━━━━━━━━━━━━━━━\u001b[0m \u001b[32m264.6/264.6 kB\u001b[0m \u001b[31m17.0 MB/s\u001b[0m eta \u001b[36m0:00:00\u001b[0m\n",
            "\u001b[?25hInstalling collected packages: multidict, frozenlist, async-timeout, yarl, aiosignal, aiohttp, openai\n",
            "Successfully installed aiohttp-3.8.4 aiosignal-1.3.1 async-timeout-4.0.2 frozenlist-1.3.3 multidict-6.0.4 openai-0.27.4 yarl-1.8.2\n"
          ]
        }
      ]
    },
    {
      "cell_type": "code",
      "source": [
        "import os\n",
        "import openai\n",
        "openai.api_key = \"API_KEY\"\n",
        "\n",
        "def chatMsg(prompt):\n",
        "  completion = openai.ChatCompletion.create(\n",
        "    model=\"gpt-3.5-turbo\",\n",
        "    messages=[\n",
        "      {\"role\": \"user\", \"content\": prompt}\n",
        "    ]\n",
        "  )\n",
        "  return completion.choices[0].message[\"content\"]"
      ],
      "metadata": {
        "id": "o8sjPwcDMYfU"
      },
      "execution_count": 8,
      "outputs": []
    },
    {
      "cell_type": "code",
      "source": [
        "chatMsg(\"2023年4月現在の日本の首相の名前は何でしょうか？\")"
      ],
      "metadata": {
        "colab": {
          "base_uri": "https://localhost:8080/",
          "height": 53
        },
        "id": "dkRlKT0VjOvf",
        "outputId": "342499d1-61e1-4c69-f1f7-6ee18c386714"
      },
      "execution_count": 34,
      "outputs": [
        {
          "output_type": "execute_result",
          "data": {
            "text/plain": [
              "'2023年4月現在の日本の首相の名前は、私にはわかりません。この情報については、将来の出来事に関する予測であるため、まだ明確に確定されていません。'"
            ],
            "application/vnd.google.colaboratory.intrinsic+json": {
              "type": "string"
            }
          },
          "metadata": {},
          "execution_count": 34
        }
      ]
    },
    {
      "cell_type": "markdown",
      "source": [
        "# Step.2 SerpAPIを呼んで、2023年4月現在の首相の名前を聞いてみる\n",
        "\n",
        "https://serpapi.com/search-api\n",
        "\n",
        "https://github.com/serpapi/google-search-results-python"
      ],
      "metadata": {
        "id": "xN14mL2zgqk6"
      }
    },
    {
      "cell_type": "code",
      "source": [
        "pip install google-search-results"
      ],
      "metadata": {
        "colab": {
          "base_uri": "https://localhost:8080/"
        },
        "id": "epVLNZz2qPSx",
        "outputId": "814f3b1d-d48a-4990-d57a-408868e3d0ff"
      },
      "execution_count": 35,
      "outputs": [
        {
          "output_type": "stream",
          "name": "stdout",
          "text": [
            "Looking in indexes: https://pypi.org/simple, https://us-python.pkg.dev/colab-wheels/public/simple/\n",
            "Requirement already satisfied: google-search-results in /usr/local/lib/python3.9/dist-packages (2.4.2)\n",
            "Requirement already satisfied: requests in /usr/local/lib/python3.9/dist-packages (from google-search-results) (2.27.1)\n",
            "Requirement already satisfied: idna<4,>=2.5 in /usr/local/lib/python3.9/dist-packages (from requests->google-search-results) (3.4)\n",
            "Requirement already satisfied: certifi>=2017.4.17 in /usr/local/lib/python3.9/dist-packages (from requests->google-search-results) (2022.12.7)\n",
            "Requirement already satisfied: urllib3<1.27,>=1.21.1 in /usr/local/lib/python3.9/dist-packages (from requests->google-search-results) (1.26.15)\n",
            "Requirement already satisfied: charset-normalizer~=2.0.0 in /usr/local/lib/python3.9/dist-packages (from requests->google-search-results) (2.0.12)\n"
          ]
        }
      ]
    },
    {
      "cell_type": "code",
      "source": [
        "from serpapi import GoogleSearch\n",
        "\n",
        "params = {\n",
        "  \"engine\": \"google\",\n",
        "  \"q\": \"2023年4月現在の日本の首相の名前\",\n",
        "  \"location\": \"Tokyo,Japan\",\n",
        "  \"hl\": \"ja\",\n",
        "  \"gl\": \"jp\",\n",
        "  \"google_domain\": \"google.co.jp\",\n",
        "  \"num\": \"10\",\n",
        "  \"start\": \"10\",\n",
        "  \"safe\": \"active\",\n",
        "  \"api_key\": \"API_KEY\"\n",
        "}\n",
        "\n",
        "search = GoogleSearch(params)\n",
        "results = search.get_dict()\n",
        "organic_results = results[\"organic_results\"]\n",
        "organic_results"
      ],
      "metadata": {
        "colab": {
          "base_uri": "https://localhost:8080/"
        },
        "id": "tWy1k6QrhVyK",
        "outputId": "9d711170-c7b1-4e20-b4d4-47957365afdb"
      },
      "execution_count": 37,
      "outputs": [
        {
          "output_type": "execute_result",
          "data": {
            "text/plain": [
              "[{'position': 1,\n",
              "  'title': '会談・訪問｜外務省',\n",
              "  'link': 'https://www.mofa.go.jp/mofaj/kaidan/index.html',\n",
              "  'displayed_link': 'https://www.mofa.go.jp › mofaj › kaidan',\n",
              "  'snippet': '（注）日付は原則的に発表・掲載した日付です。 フォト・ギャラリー · 岸田総理大臣 · 全部見る. 令和5年4月.',\n",
              "  'snippet_highlighted_words': ['令和5年4月'],\n",
              "  'about_this_result': {'source': {'description': '外務省は、日本の行政機関のひとつ。日本の外交を所管する。',\n",
              "    'source_info_link': 'https://www.mofa.go.jp/mofaj/kaidan/index.html',\n",
              "    'security': '保護',\n",
              "    'icon': 'https://serpapi.com/searches/643fe910e93ff46b6cb2581b/images/32d9b3dcc453f7371807251bf69f1c5a6495ed6ee24144a2c9e3c63ade61c642b77784a1572e1984f51f15ebfccd19b4.png'}},\n",
              "  'cached_page_link': 'https://webcache.googleusercontent.com/search?q=cache:_EdQvlFfK_cJ:https://www.mofa.go.jp/mofaj/kaidan/index.html&cd=19&hl=ja&ct=clnk&gl=jp',\n",
              "  'missing': ['名前'],\n",
              "  'must_include': {'word': '名前',\n",
              "   'link': 'https://www.google.co.jp/search?safe=active&hl=ja&gl=jp&q=2023%E5%B9%B44%E6%9C%88%E7%8F%BE%E5%9C%A8%E3%81%AE%E6%97%A5%E6%9C%AC%E3%81%AE%E9%A6%96%E7%9B%B8%E3%81%AE+%22%E5%90%8D%E5%89%8D%22&sa=X&ved=2ahUKEwiN2Y6Rg7b-AhWhIUQIHfSvDDg4ChDm3gJ6BAgUEAE'}},\n",
              " {'position': 2,\n",
              "  'title': '衆議院トップページ',\n",
              "  'link': 'https://www.shugiin.go.jp/',\n",
              "  'displayed_link': 'https://www.shugiin.go.jp',\n",
              "  'snippet': '事務局・法制局からのお知らせ. 令和5年度国会議員政策担当秘書資格試験のお知らせNEW! 衆議院内営業者公募について（令和5年4月7日）（PDF：119KB）NEW!',\n",
              "  'snippet_highlighted_words': ['令和5年4月7日'],\n",
              "  'about_this_result': {'source': {'description': '国会は、日本の立法府。衆議院および参議院から構成される二院制の議会である。国権の最高機関とされる。',\n",
              "    'source_info_link': 'https://www.shugiin.go.jp/',\n",
              "    'security': '保護'}},\n",
              "  'cached_page_link': 'https://webcache.googleusercontent.com/search?q=cache:y6Dn0aDR3AYJ:https://www.shugiin.go.jp/&cd=20&hl=ja&ct=clnk&gl=jp'},\n",
              " {'position': 3,\n",
              "  'title': 'デジタル庁',\n",
              "  'link': 'https://www.digital.go.jp/',\n",
              "  'displayed_link': 'https://www.digital.go.jp',\n",
              "  'snippet': 'デジタル庁は、デジタル社会形成の司令塔として、未来志向のDXを大胆に推進し、デジタル時代の官民のインフラを今後5年で一気呵成に作り上げることを目指します。',\n",
              "  'about_this_result': {'source': {'description': 'デジタル庁は、日本の行政機関のひとつ。デジタル社会の形成に関する内閣の事務を内閣官房と共に助け、その行政事務の迅速かつ重点的な遂行を図ることを目的として内閣に置かれる。2021年9月1日に発足した。\\n復興庁と同様に国家行政組織法の適用が除外されており、必要な事項はデジタル庁設置法に規定されている。',\n",
              "    'source_info_link': 'https://www.digital.go.jp/',\n",
              "    'security': '保護',\n",
              "    'icon': 'https://serpapi.com/searches/643fe910e93ff46b6cb2581b/images/32d9b3dcc453f7371807251bf69f1c5a173141cb036b20abb73e52979be1d7988f86eb96307d11e221e53d675741d954.png'}},\n",
              "  'cached_page_link': 'https://webcache.googleusercontent.com/search?q=cache:TWpp4o64F4IJ:https://www.digital.go.jp/&cd=21&hl=ja&ct=clnk&gl=jp'},\n",
              " {'position': 4,\n",
              "  'title': '毎日新聞',\n",
              "  'link': 'https://mainichi.jp/',\n",
              "  'displayed_link': 'https://mainichi.jp',\n",
              "  'snippet': '記者会見する松野博一官房長官＝首相官邸で2023年4月 ... チャットGPT 日本での検索数、宅配ピザ並み. 4/19 20:11 ... 新型コロナウイルス現在の感染状況. 4月18 ...',\n",
              "  'snippet_highlighted_words': ['首相', '2023年4月', '日本', '現在'],\n",
              "  'about_this_result': {'source': {'description': '毎日新聞は、日本の新聞のひとつ。毎日新聞社が発行している。読売新聞・朝日新聞とともに三大紙に数えられる。\\n日本国内で一番歴史のある新聞であり、大阪毎日新聞と東京日日新聞を源流とする。',\n",
              "    'source_info_link': 'https://mainichi.jp/',\n",
              "    'security': '保護',\n",
              "    'icon': 'https://serpapi.com/searches/643fe910e93ff46b6cb2581b/images/32d9b3dcc453f7371807251bf69f1c5a866b7bae9adf9e99abc00c07f8b6d28f28e036bb1f80358af5be8c01c3bd3092.png'}},\n",
              "  'cached_page_link': '/search?safe=active&hl=ja&gl=jp&q=related:https://mainichi.jp/+2023%E5%B9%B44%E6%9C%88%E7%8F%BE%E5%9C%A8%E3%81%AE%E6%97%A5%E6%9C%AC%E3%81%AE%E9%A6%96%E7%9B%B8%E3%81%AE%E5%90%8D%E5%89%8D'},\n",
              " {'position': 5,\n",
              "  'title': '日本学術会議｜わが国の科学者の内外に対する代表機関',\n",
              "  'link': 'https://www.scj.go.jp/',\n",
              "  'displayed_link': 'https://www.scj.go.jp',\n",
              "  'snippet': '日本学術会議は、アメリカ、イギリス、ドイツ、フランスのアカデミーの調査を行いました。（令和5年4月13日） >各国アカデミー調査（アメリカ、イギリス、ドイツ、 ...',\n",
              "  'snippet_highlighted_words': ['日本', '令和5年4月13日'],\n",
              "  'about_this_result': {'source': {'description': '日本学術会議は、日本の国立アカデミーで、内閣府の特別の機関の一つ。日本の科学者の内外の対する代表機関であり、科学の向上発達を図り、行政、産業及び国民生活に科学を反映浸透させることを目的とする。国単位で加盟する国際学術機関の組織構成員でもあり、それらの国際分担金も担う。',\n",
              "    'source_info_link': 'https://www.scj.go.jp/',\n",
              "    'security': '保護',\n",
              "    'icon': 'https://serpapi.com/searches/643fe910e93ff46b6cb2581b/images/32d9b3dcc453f7371807251bf69f1c5ad4d0bbf855934a8b8229e9ea6964dbee76cffa37e222c99f66fe3330f3c74441.png'}},\n",
              "  'cached_page_link': 'https://webcache.googleusercontent.com/search?q=cache:b2ECli6PLocJ:https://www.scj.go.jp/&cd=23&hl=ja&ct=clnk&gl=jp'},\n",
              " {'position': 6,\n",
              "  'title': '自由民主党',\n",
              "  'link': 'https://www.jimin.jp/',\n",
              "  'displayed_link': 'https://www.jimin.jp',\n",
              "  'snippet': '自由民主党 本部サイト. 2023年 統一地方選挙 地域の声で、新たな日本へ。所得 衆・参補欠選挙情報 統一地方選挙特設サイト. 岸田総裁. 4月18日の会議7:45',\n",
              "  'snippet_highlighted_words': ['2023年', '日本', '4月'],\n",
              "  'about_this_result': {'source': {'description': '自由民主党は、日本の政党。自由主義を掲げ、つねに改革を進める保守政党を標榜している。\\n略称・通称は「自民党」、「自民」。1字表記の際は「自」。\\n2012年12月以降、公明党と自公連立政権を構成している。',\n",
              "    'source_info_link': 'https://www.jimin.jp/',\n",
              "    'security': '保護',\n",
              "    'icon': 'https://serpapi.com/searches/643fe910e93ff46b6cb2581b/images/32d9b3dcc453f7371807251bf69f1c5a88cd65a253b4c0acf8d3aa856870ab20569e767a9a450569539225563c789660.png'}},\n",
              "  'cached_page_link': 'https://webcache.googleusercontent.com/search?q=cache:yzBaT2NDz7IJ:https://www.jimin.jp/&cd=24&hl=ja&ct=clnk&gl=jp',\n",
              "  'related_pages_link': 'https://www.google.co.jp/search?safe=active&hl=ja&gl=jp&q=related:https://www.jimin.jp/+2023%E5%B9%B44%E6%9C%88%E7%8F%BE%E5%9C%A8%E3%81%AE%E6%97%A5%E6%9C%AC%E3%81%AE%E9%A6%96%E7%9B%B8%E3%81%AE%E5%90%8D%E5%89%8D'},\n",
              " {'position': 7,\n",
              "  'title': '在ボリビア日本国大使館 Embajada del Japón en Bolivia',\n",
              "  'link': 'https://www.bo.emb-japan.go.jp/itprtop_ja/index.html',\n",
              "  'displayed_link': 'https://www.bo.emb-japan.go.jp › itprtop_ja',\n",
              "  'snippet': '現在、領事窓口での業務は新型コロナウイルス感染症防止対策のため、予約制とさせて ... 衆議院議員補欠選挙に伴う在外選挙の実施について （令和5年4月）（終了）',\n",
              "  'snippet_highlighted_words': ['現在', '令和5年4月'],\n",
              "  'about_this_result': {'source': {'description': 'bo.emb-japan.go.jp が Google によって初めてインデックスに登録されたのは、10 年以上前です',\n",
              "    'source_info_link': 'https://www.bo.emb-japan.go.jp/itprtop_ja/index.html',\n",
              "    'security': '保護'}},\n",
              "  'cached_page_link': 'https://webcache.googleusercontent.com/search?q=cache:QlG6W8w_QtUJ:https://www.bo.emb-japan.go.jp/itprtop_ja/index.html&cd=25&hl=ja&ct=clnk&gl=jp'},\n",
              " {'position': 8,\n",
              "  'title': '新型コロナワクチンについて',\n",
              "  'link': 'https://www.mhlw.go.jp/stf/seisakunitsuite/bunya/vaccine_00184.html',\n",
              "  'displayed_link': 'https://www.mhlw.go.jp › stf › bunya › vaccine_00184',\n",
              "  'snippet': '2023年4月19日掲載 ... 現在、初回接種及び追加接種について調査を実施しています。詳しくはこちらをご覧 ... ベトナム語 ： 10時00分～19時00分（日本時間）.',\n",
              "  'snippet_highlighted_words': ['2023年4月19日', '現在', '日本'],\n",
              "  'about_this_result': {'source': {'description': '厚生労働省は、日本の行政機関のひとつ。健康、医療、子ども、子育て、福祉、介護、雇用、労働、および年金に関する行政ならびに復員、戦没者遺族等の援護、旧陸軍、海軍の残務整理を所管する。日本語略称・通称は、厚労省。\\n2001年1月の中央省庁再編により、厚生省と労働省を統合して誕生した。予算規模は中央省庁の中で最大である。',\n",
              "    'source_info_link': 'https://www.mhlw.go.jp/stf/seisakunitsuite/bunya/vaccine_00184.html',\n",
              "    'security': '保護',\n",
              "    'icon': 'https://serpapi.com/searches/643fe910e93ff46b6cb2581b/images/32d9b3dcc453f7371807251bf69f1c5aa31a2bf44e8d3775dd5242858f2d3d03eda466d00c3ddb413ce879f528fda93e.png'}},\n",
              "  'cached_page_link': 'https://webcache.googleusercontent.com/search?q=cache:nFsY5_NlSCYJ:https://www.mhlw.go.jp/stf/seisakunitsuite/bunya/vaccine_00184.html&cd=26&hl=ja&ct=clnk&gl=jp'},\n",
              " {'position': 9,\n",
              "  'title': 'G7宮崎農業大臣会合の開催について - 宮崎県',\n",
              "  'link': 'https://www.pref.miyazaki.lg.jp/g7miyazaki/kense/sesaku/index.html',\n",
              "  'displayed_link': 'https://www.pref.miyazaki.lg.jp › kense › sesaku',\n",
              "  'snippet': '会合名：G7宮崎農業大臣会合 · 開催日程：令和5年4月22日(土曜日)・23日(日曜日) · 会場：宮崎市「シーガイアコンベンションセンター」 ...',\n",
              "  'snippet_highlighted_words': ['令和5年4月22日(土曜日'],\n",
              "  'about_this_result': {'source': {'description': '宮崎県は、日本の九州地方に位置する県。県庁所在地は宮崎市。',\n",
              "    'source_info_link': 'https://www.pref.miyazaki.lg.jp/g7miyazaki/kense/sesaku/index.html',\n",
              "    'security': '保護',\n",
              "    'icon': 'https://serpapi.com/searches/643fe910e93ff46b6cb2581b/images/32d9b3dcc453f7371807251bf69f1c5ac7957df3bd0d135dade13148399183e8032e82a1d08c162a0e1d736ee4c5c6da.png'}},\n",
              "  'cached_page_link': 'https://webcache.googleusercontent.com/search?q=cache:7INBM-7rAtoJ:https://www.pref.miyazaki.lg.jp/g7miyazaki/kense/sesaku/index.html&cd=27&hl=ja&ct=clnk&gl=jp'},\n",
              " {'position': 10,\n",
              "  'title': '会見・動静・談話',\n",
              "  'link': 'https://www.meti.go.jp/speeches/',\n",
              "  'displayed_link': 'https://www.meti.go.jp › speeches',\n",
              "  'snippet': '2023年4月14日 · 2023年4月11日 · 2023年4月7日 · 2023年4月4日 ... 2022年12月6日: 西村経済産業大臣は、ベルギー王国フランダース政府ヤン・ヤンボン首相とimec ...',\n",
              "  'snippet_highlighted_words': ['2023年4月',\n",
              "   '2023年4月',\n",
              "   '2023年4月',\n",
              "   '2023年4月',\n",
              "   '首相'],\n",
              "  'about_this_result': {'source': {'description': '経済産業省は、日本の行政機関のひとつ。経済および産業の発展ならびに鉱物資源およびエネルギー資源の供給に関する行政を所管する。日本語略称・通称は、経産省。',\n",
              "    'source_info_link': 'https://www.meti.go.jp/speeches/',\n",
              "    'security': '保護',\n",
              "    'icon': 'https://serpapi.com/searches/643fe910e93ff46b6cb2581b/images/32d9b3dcc453f7371807251bf69f1c5af15ceb935659bd22b6877390b25d43ddbfa2947a3058a9f921067df66cc99680.png'}},\n",
              "  'cached_page_link': 'https://webcache.googleusercontent.com/search?q=cache:zE7VYS4Kyo4J:https://www.meti.go.jp/speeches/&cd=28&hl=ja&ct=clnk&gl=jp'}]"
            ]
          },
          "metadata": {},
          "execution_count": 37
        }
      ]
    },
    {
      "cell_type": "markdown",
      "source": [
        "# Step.3 LangChainでChatGPTとSerpAPIを利用して、ChatGPTに、2023年4月現在の首相の名前を答えてもらう。\n",
        "\n",
        "https://python.langchain.com/en/latest/index.html"
      ],
      "metadata": {
        "id": "T6ewO7NqhWSz"
      }
    },
    {
      "cell_type": "code",
      "source": [
        "pip install langchain"
      ],
      "metadata": {
        "colab": {
          "base_uri": "https://localhost:8080/"
        },
        "id": "7tzWns_Jhd86",
        "outputId": "fd095437-69ba-4186-8865-1863ee8f77a6"
      },
      "execution_count": 38,
      "outputs": [
        {
          "output_type": "stream",
          "name": "stdout",
          "text": [
            "Looking in indexes: https://pypi.org/simple, https://us-python.pkg.dev/colab-wheels/public/simple/\n",
            "Collecting langchain\n",
            "  Downloading langchain-0.0.144-py3-none-any.whl (578 kB)\n",
            "\u001b[2K     \u001b[90m━━━━━━━━━━━━━━━━━━━━━━━━━━━━━━━━━━━━━━━\u001b[0m \u001b[32m578.5/578.5 kB\u001b[0m \u001b[31m4.6 MB/s\u001b[0m eta \u001b[36m0:00:00\u001b[0m\n",
            "\u001b[?25hRequirement already satisfied: numpy<2,>=1 in /usr/local/lib/python3.9/dist-packages (from langchain) (1.22.4)\n",
            "Collecting openapi-schema-pydantic<2.0,>=1.2\n",
            "  Downloading openapi_schema_pydantic-1.2.4-py3-none-any.whl (90 kB)\n",
            "\u001b[2K     \u001b[90m━━━━━━━━━━━━━━━━━━━━━━━━━━━━━━━━━━━━━━━━\u001b[0m \u001b[32m90.0/90.0 kB\u001b[0m \u001b[31m9.9 MB/s\u001b[0m eta \u001b[36m0:00:00\u001b[0m\n",
            "\u001b[?25hCollecting dataclasses-json<0.6.0,>=0.5.7\n",
            "  Downloading dataclasses_json-0.5.7-py3-none-any.whl (25 kB)\n",
            "Collecting SQLAlchemy<2,>=1\n",
            "  Downloading SQLAlchemy-1.4.47-cp39-cp39-manylinux_2_5_x86_64.manylinux1_x86_64.manylinux_2_17_x86_64.manylinux2014_x86_64.whl (1.6 MB)\n",
            "\u001b[2K     \u001b[90m━━━━━━━━━━━━━━━━━━━━━━━━━━━━━━━━━━━━━━━━\u001b[0m \u001b[32m1.6/1.6 MB\u001b[0m \u001b[31m19.2 MB/s\u001b[0m eta \u001b[36m0:00:00\u001b[0m\n",
            "\u001b[?25hRequirement already satisfied: pydantic<2,>=1 in /usr/local/lib/python3.9/dist-packages (from langchain) (1.10.7)\n",
            "Requirement already satisfied: requests<3,>=2 in /usr/local/lib/python3.9/dist-packages (from langchain) (2.27.1)\n",
            "Requirement already satisfied: PyYAML>=5.4.1 in /usr/local/lib/python3.9/dist-packages (from langchain) (6.0)\n",
            "Requirement already satisfied: numexpr<3.0.0,>=2.8.4 in /usr/local/lib/python3.9/dist-packages (from langchain) (2.8.4)\n",
            "Requirement already satisfied: async-timeout<5.0.0,>=4.0.0 in /usr/local/lib/python3.9/dist-packages (from langchain) (4.0.2)\n",
            "Requirement already satisfied: tenacity<9.0.0,>=8.1.0 in /usr/local/lib/python3.9/dist-packages (from langchain) (8.2.2)\n",
            "Requirement already satisfied: aiohttp<4.0.0,>=3.8.3 in /usr/local/lib/python3.9/dist-packages (from langchain) (3.8.4)\n",
            "Requirement already satisfied: aiosignal>=1.1.2 in /usr/local/lib/python3.9/dist-packages (from aiohttp<4.0.0,>=3.8.3->langchain) (1.3.1)\n",
            "Requirement already satisfied: charset-normalizer<4.0,>=2.0 in /usr/local/lib/python3.9/dist-packages (from aiohttp<4.0.0,>=3.8.3->langchain) (2.0.12)\n",
            "Requirement already satisfied: attrs>=17.3.0 in /usr/local/lib/python3.9/dist-packages (from aiohttp<4.0.0,>=3.8.3->langchain) (22.2.0)\n",
            "Requirement already satisfied: multidict<7.0,>=4.5 in /usr/local/lib/python3.9/dist-packages (from aiohttp<4.0.0,>=3.8.3->langchain) (6.0.4)\n",
            "Requirement already satisfied: yarl<2.0,>=1.0 in /usr/local/lib/python3.9/dist-packages (from aiohttp<4.0.0,>=3.8.3->langchain) (1.8.2)\n",
            "Requirement already satisfied: frozenlist>=1.1.1 in /usr/local/lib/python3.9/dist-packages (from aiohttp<4.0.0,>=3.8.3->langchain) (1.3.3)\n",
            "Collecting marshmallow-enum<2.0.0,>=1.5.1\n",
            "  Downloading marshmallow_enum-1.5.1-py2.py3-none-any.whl (4.2 kB)\n",
            "Collecting marshmallow<4.0.0,>=3.3.0\n",
            "  Downloading marshmallow-3.19.0-py3-none-any.whl (49 kB)\n",
            "\u001b[2K     \u001b[90m━━━━━━━━━━━━━━━━━━━━━━━━━━━━━━━━━━━━━━━━\u001b[0m \u001b[32m49.1/49.1 kB\u001b[0m \u001b[31m5.1 MB/s\u001b[0m eta \u001b[36m0:00:00\u001b[0m\n",
            "\u001b[?25hCollecting typing-inspect>=0.4.0\n",
            "  Downloading typing_inspect-0.8.0-py3-none-any.whl (8.7 kB)\n",
            "Requirement already satisfied: typing-extensions>=4.2.0 in /usr/local/lib/python3.9/dist-packages (from pydantic<2,>=1->langchain) (4.5.0)\n",
            "Requirement already satisfied: idna<4,>=2.5 in /usr/local/lib/python3.9/dist-packages (from requests<3,>=2->langchain) (3.4)\n",
            "Requirement already satisfied: certifi>=2017.4.17 in /usr/local/lib/python3.9/dist-packages (from requests<3,>=2->langchain) (2022.12.7)\n",
            "Requirement already satisfied: urllib3<1.27,>=1.21.1 in /usr/local/lib/python3.9/dist-packages (from requests<3,>=2->langchain) (1.26.15)\n",
            "Requirement already satisfied: greenlet!=0.4.17 in /usr/local/lib/python3.9/dist-packages (from SQLAlchemy<2,>=1->langchain) (2.0.2)\n",
            "Requirement already satisfied: packaging>=17.0 in /usr/local/lib/python3.9/dist-packages (from marshmallow<4.0.0,>=3.3.0->dataclasses-json<0.6.0,>=0.5.7->langchain) (23.0)\n",
            "Collecting mypy-extensions>=0.3.0\n",
            "  Downloading mypy_extensions-1.0.0-py3-none-any.whl (4.7 kB)\n",
            "Installing collected packages: SQLAlchemy, mypy-extensions, marshmallow, typing-inspect, openapi-schema-pydantic, marshmallow-enum, dataclasses-json, langchain\n",
            "  Attempting uninstall: SQLAlchemy\n",
            "    Found existing installation: SQLAlchemy 2.0.9\n",
            "    Uninstalling SQLAlchemy-2.0.9:\n",
            "      Successfully uninstalled SQLAlchemy-2.0.9\n",
            "Successfully installed SQLAlchemy-1.4.47 dataclasses-json-0.5.7 langchain-0.0.144 marshmallow-3.19.0 marshmallow-enum-1.5.1 mypy-extensions-1.0.0 openapi-schema-pydantic-1.2.4 typing-inspect-0.8.0\n"
          ]
        }
      ]
    },
    {
      "cell_type": "code",
      "source": [
        "import os\n",
        "os.environ[\"OPENAI_API_KEY\"] = \"API_KEY\""
      ],
      "metadata": {
        "id": "_u1U-O5ivP4n"
      },
      "execution_count": 39,
      "outputs": []
    },
    {
      "cell_type": "code",
      "source": [
        "from langchain.llms import OpenAI"
      ],
      "metadata": {
        "id": "iiDOfaFqvaO2"
      },
      "execution_count": 40,
      "outputs": []
    },
    {
      "cell_type": "code",
      "source": [
        "llm = OpenAI(temperature=0.9)"
      ],
      "metadata": {
        "id": "3WuqowwZveNF"
      },
      "execution_count": 41,
      "outputs": []
    },
    {
      "cell_type": "code",
      "source": [
        "text = \"What would be a good company name for a company that makes colorful socks?\"\n",
        "print(llm(text))"
      ],
      "metadata": {
        "colab": {
          "base_uri": "https://localhost:8080/"
        },
        "id": "Bh5qUSNevks1",
        "outputId": "0402d8ea-d185-4ac9-c942-acf1e84f17db"
      },
      "execution_count": 42,
      "outputs": [
        {
          "output_type": "stream",
          "name": "stdout",
          "text": [
            "\n",
            "\n",
            "Colorful Creations Socks Co.\n"
          ]
        }
      ]
    },
    {
      "cell_type": "code",
      "source": [
        "from langchain.prompts import PromptTemplate\n",
        "\n",
        "prompt = PromptTemplate(\n",
        "    input_variables=[\"product\"],\n",
        "    template=\"What is a good name for a company that makes {product}?\",\n",
        ")"
      ],
      "metadata": {
        "id": "upKR3ffUvqe1"
      },
      "execution_count": 43,
      "outputs": []
    },
    {
      "cell_type": "code",
      "source": [
        "print(prompt.format(product=\"colorful socks\"))"
      ],
      "metadata": {
        "colab": {
          "base_uri": "https://localhost:8080/"
        },
        "id": "E9ole0BMv1et",
        "outputId": "c4066435-71c3-4de4-9d82-b21b4232cf01"
      },
      "execution_count": 44,
      "outputs": [
        {
          "output_type": "stream",
          "name": "stdout",
          "text": [
            "What is a good name for a company that makes colorful socks?\n"
          ]
        }
      ]
    },
    {
      "cell_type": "code",
      "source": [
        "llm(prompt.format(product=\"strong bottle\"))"
      ],
      "metadata": {
        "colab": {
          "base_uri": "https://localhost:8080/",
          "height": 35
        },
        "id": "fp0Euy2Lv4tP",
        "outputId": "8cfb7e6e-fc56-4989-d091-8fff1c7b90a4"
      },
      "execution_count": 46,
      "outputs": [
        {
          "output_type": "execute_result",
          "data": {
            "text/plain": [
              "'\\n\\nArmour Beverage Co.'"
            ],
            "application/vnd.google.colaboratory.intrinsic+json": {
              "type": "string"
            }
          },
          "metadata": {},
          "execution_count": 46
        }
      ]
    },
    {
      "cell_type": "code",
      "source": [
        "from langchain.chains import LLMChain\n",
        "chain = LLMChain(llm=llm, prompt=prompt)"
      ],
      "metadata": {
        "id": "KiqRs628wC5o"
      },
      "execution_count": 47,
      "outputs": []
    },
    {
      "cell_type": "code",
      "source": [
        "chain.run(\"colorful socks\")\n",
        "# -> '\\n\\nSocktastic!'"
      ],
      "metadata": {
        "colab": {
          "base_uri": "https://localhost:8080/",
          "height": 35
        },
        "id": "hYdL0ugTwVDP",
        "outputId": "e03a8884-00ac-47e8-f5fb-6793b0f4973b"
      },
      "execution_count": 48,
      "outputs": [
        {
          "output_type": "execute_result",
          "data": {
            "text/plain": [
              "'\\n\\nRainbow Toes Socks.'"
            ],
            "application/vnd.google.colaboratory.intrinsic+json": {
              "type": "string"
            }
          },
          "metadata": {},
          "execution_count": 48
        }
      ]
    },
    {
      "cell_type": "code",
      "source": [
        "import os\n",
        "os.environ[\"SERPAPI_API_KEY\"] = \"API_KEY\""
      ],
      "metadata": {
        "id": "8coMKWNAwYSP"
      },
      "execution_count": 49,
      "outputs": []
    },
    {
      "cell_type": "code",
      "source": [
        "from langchain.agents import load_tools\n",
        "from langchain.agents import initialize_agent\n",
        "from langchain.agents import AgentType\n",
        "from langchain.llms import OpenAI\n",
        "\n",
        "# First, let's load the language model we're going to use to control the agent.\n",
        "llm = OpenAI(temperature=0)\n",
        "\n",
        "# Next, let's load some tools to use. Note that the `llm-math` tool uses an LLM, so we need to pass that in.\n",
        "tools = load_tools([\"serpapi\", \"llm-math\"], llm=llm)\n",
        "\n",
        "\n",
        "# Finally, let's initialize an agent with the tools, the language model, and the type of agent we want to use.\n",
        "agent = initialize_agent(tools, llm, agent=AgentType.ZERO_SHOT_REACT_DESCRIPTION, verbose=True)\n",
        "\n",
        "# Now let's test it out!\n",
        "agent.run(\"What was the high temperature in SF yesterday in Fahrenheit? What is that number raised to the .023 power?\")"
      ],
      "metadata": {
        "colab": {
          "base_uri": "https://localhost:8080/",
          "height": 281
        },
        "id": "pxDyziuewjr3",
        "outputId": "de0b4373-818a-42c8-d4cc-8a33ff522be1"
      },
      "execution_count": 50,
      "outputs": [
        {
          "output_type": "stream",
          "name": "stdout",
          "text": [
            "\n",
            "\n",
            "\u001b[1m> Entering new AgentExecutor chain...\u001b[0m\n",
            "\u001b[32;1m\u001b[1;3m I need to find the temperature first, then use the calculator to raise it to the .023 power.\n",
            "Action: Search\n",
            "Action Input: \"High temperature in SF yesterday\"\u001b[0m\u001b[36;1m\u001b[1;3mHigh: 59ºf @2:55 PM Low: 48.02ºf @6:56 AM Approx. Precipitation / Rain Total: 0.001 in. 1hr.\u001b[0m\u001b[32;1m\u001b[1;3m I need to convert the temperature to Celsius and then use the calculator to raise it to the .023 power.\n",
            "Action: Calculator\n",
            "Action Input: (59-32)*5/9\u001b[0m\u001b[33;1m\u001b[1;3mAnswer: 15.0\u001b[0m\u001b[32;1m\u001b[1;3m I now need to raise 15.0 to the .023 power.\n",
            "Action: Calculator\n",
            "Action Input: 15.0^.023\u001b[0m\u001b[33;1m\u001b[1;3mAnswer: 1.0642657817730143\u001b[0m\u001b[32;1m\u001b[1;3m I now know the final answer.\n",
            "Final Answer: 1.0642657817730143\u001b[0m\n",
            "\n",
            "\u001b[1m> Finished chain.\u001b[0m\n"
          ]
        },
        {
          "output_type": "execute_result",
          "data": {
            "text/plain": [
              "'1.0642657817730143'"
            ],
            "application/vnd.google.colaboratory.intrinsic+json": {
              "type": "string"
            }
          },
          "metadata": {},
          "execution_count": 50
        }
      ]
    },
    {
      "cell_type": "code",
      "source": [
        "initialize_agent?"
      ],
      "metadata": {
        "id": "w1y5g1yey6mF"
      },
      "execution_count": 55,
      "outputs": []
    },
    {
      "cell_type": "code",
      "source": [
        "from langchain.agents import load_tools\n",
        "from langchain.agents import initialize_agent\n",
        "from langchain.agents import AgentType\n",
        "from langchain.llms import OpenAI\n",
        "\n",
        "# First, let's load the language model we're going to use to control the agent.\n",
        "llm = OpenAI(temperature=0)\n",
        "\n",
        "# Next, let's load some tools to use. Note that the `llm-math` tool uses an LLM, so we need to pass that in.\n",
        "tools = load_tools([\"serpapi\"], llm=llm)\n",
        "\n",
        "\n",
        "# Finally, let's initialize an agent with the tools, the language model, and the type of agent we want to use.\n",
        "agent = initialize_agent(tools, llm, agent=AgentType.ZERO_SHOT_REACT_DESCRIPTION, verbose=True)\n",
        "\n",
        "# Now let's test it out!\n",
        "agent.run(\"2023年4月現在の日本の首相の名前は何でしょうか？\\n 回答は英語から日本語に翻訳して\")"
      ],
      "metadata": {
        "colab": {
          "base_uri": "https://localhost:8080/",
          "height": 246
        },
        "id": "XAbrdkvmw3SR",
        "outputId": "ae7204b5-a27e-4890-be16-7b08d4c50bdd"
      },
      "execution_count": 56,
      "outputs": [
        {
          "output_type": "stream",
          "name": "stdout",
          "text": [
            "\n",
            "\n",
            "\u001b[1m> Entering new AgentExecutor chain...\u001b[0m\n",
            "\u001b[32;1m\u001b[1;3m 日本の首相の名前を検索してみる\n",
            "Action: Search\n",
            "Action Input: Japan Prime Minister Name\u001b[0m\u001b[36;1m\u001b[1;3mFumio Kishida\u001b[0m\u001b[32;1m\u001b[1;3m 確認する\n",
            "Action: Search\n",
            "Action Input: Fumio Kishida\u001b[0m\u001b[36;1m\u001b[1;3mFumio Kishida is a Japanese politician serving as prime minister of Japan and president of the Liberal Democratic Party since 2021. A member of the House of Representatives, he previously served as Minister for Foreign Affairs from 2012 to 2017 and as acting Minister of Defense in 2017.\u001b[0m\u001b[32;1m\u001b[1;3m 確認できた\n",
            "Final Answer: 2021年から日本の首相と自由民主党の代表を務めているのは、岸田文雄です。\u001b[0m\n",
            "\n",
            "\u001b[1m> Finished chain.\u001b[0m\n"
          ]
        },
        {
          "output_type": "execute_result",
          "data": {
            "text/plain": [
              "'2021年から日本の首相と自由民主党の代表を務めているのは、岸田文雄です。'"
            ],
            "application/vnd.google.colaboratory.intrinsic+json": {
              "type": "string"
            }
          },
          "metadata": {},
          "execution_count": 56
        }
      ]
    },
    {
      "cell_type": "code",
      "source": [],
      "metadata": {
        "id": "caVFYK5oxPgv"
      },
      "execution_count": null,
      "outputs": []
    }
  ]
}